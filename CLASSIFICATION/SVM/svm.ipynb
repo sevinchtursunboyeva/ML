{
 "cells": [
  {
   "cell_type": "code",
   "execution_count": null,
   "id": "5ffed32d-4fcd-4180-bb1d-b629d65db836",
   "metadata": {},
   "outputs": [],
   "source": []
  }
 ],
 "metadata": {
  "kernelspec": {
   "display_name": "",
   "name": ""
  },
  "language_info": {
   "name": ""
  }
 },
 "nbformat": 4,
 "nbformat_minor": 5
}
