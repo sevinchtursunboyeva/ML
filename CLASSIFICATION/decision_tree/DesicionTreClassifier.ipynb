{
 "cells": [
  {
   "cell_type": "code",
   "execution_count": null,
   "id": "82961c83-d120-4229-9a3b-009aa28418c9",
   "metadata": {},
   "outputs": [],
   "source": [
    "import numpy as np\n",
    "import pandas as pd\n",
    "import matplotlib.pyplot as plt\n",
    "from sklearn.tree import DecisionTreeClassifier, plot_tree\n",
    "from sklearn.model_selection import train_test_split\n",
    "from sklearn.metrics import accuracy_score, confusion_matrix, classification_report\n",
    "\n",
    "# Ma'lumotlar\n",
    "\n",
    "\n",
    "# Oylikni klassifikatsiya qilish uchun, threshold belgilaymiz\n",
    "  # 1 - yuqori, 0 - past\n",
    "\n",
    "# X va y ajratish\n",
    "\n",
    "\n",
    "# Train-test split\n",
    "\n",
    "\n",
    "# Decision Tree modelini yaratish va o'qitish\n",
    "\n",
    "\n",
    "# Bashorat va baholash\n",
    "\n",
    "\n",
    "# Natijalarni chiqarish\n",
    "print(report)\n",
    "print(f\"(Accuracy): {accuracy}\")\n",
    "print(c_matrix)\n",
    "\n",
    "# Daraxtni vizualizatsiya qilish\n",
    "plt.figure(figsize=(12,8))\n",
    "plot_tree(model, feature_names=['yosh', 'ish_staji'], class_names=['Past oylik', 'Yuqori oylik'], filled=True)\n",
    "plt.show()"
   ]
  },
  {
   "cell_type": "code",
   "execution_count": null,
   "id": "154be05e-8b95-479d-9818-c904372c084a",
   "metadata": {},
   "outputs": [],
   "source": [
    "data = {\n",
    "    'yosh': [25, 22, 27, 30, 22, 27, 20, 35, 32, 23],\n",
    "    'ish_staji': [2, 1, 3, 5, 1, 2, 0, 10, 7, 1],\n",
    "    'oylik': [5000, 4500, 6000, 7000, 2000, 3500, 1200, 9000, 8000, 4000]\n",
    "}\n",
    "df = pd.DataFrame(data)"
   ]
  },
  {
   "cell_type": "code",
   "execution_count": null,
   "id": "147a63c1-2949-45a5-b8ce-18a7586f4e56",
   "metadata": {},
   "outputs": [],
   "source": [
    "df['oylik_class'] = np.where(df['oylik'] >= 5000, 1, 0)"
   ]
  },
  {
   "cell_type": "code",
   "execution_count": null,
   "id": "accecad0-b1d9-4d31-b0e3-526284704c82",
   "metadata": {},
   "outputs": [],
   "source": [
    "X = df[['yosh', 'ish_staji']]\n",
    "y = df['oylik_class']"
   ]
  },
  {
   "cell_type": "code",
   "execution_count": null,
   "id": "dc069c69-5e51-447d-8077-1e2003ebbb30",
   "metadata": {},
   "outputs": [],
   "source": [
    "X_train, X_test, y_train, y_test = train_test_split(X, y, test_size=0.3, random_state=42)"
   ]
  },
  {
   "cell_type": "code",
   "execution_count": null,
   "id": "44047209-90e5-44c7-972d-290b09b173a0",
   "metadata": {},
   "outputs": [],
   "source": [
    "model = DecisionTreeClassifier(max_depth=3, random_state=42)\n",
    "model.fit(X_train, y_train)"
   ]
  },
  {
   "cell_type": "code",
   "execution_count": null,
   "id": "ddcf1777-2339-4ac7-9bf0-d7da591a1ac0",
   "metadata": {},
   "outputs": [],
   "source": [
    "y_pred = model.predict(X_test)\n",
    "accuracy = accuracy_score(y_test, y_pred)\n",
    "c_matrix = confusion_matrix(y_test, y_pred)\n",
    "report = classification_report(y_test, y_pred)"
   ]
  },
  {
   "cell_type": "code",
   "execution_count": null,
   "id": "10a358e6-b9ae-407b-adf0-006659573b21",
   "metadata": {},
   "outputs": [],
   "source": []
  }
 ],
 "metadata": {
  "kernelspec": {
   "display_name": "Python 3 (ipykernel)",
   "language": "python",
   "name": "python3"
  },
  "language_info": {
   "codemirror_mode": {
    "name": "ipython",
    "version": 3
   },
   "file_extension": ".py",
   "mimetype": "text/x-python",
   "name": "python",
   "nbconvert_exporter": "python",
   "pygments_lexer": "ipython3",
   "version": "3.12.0"
  }
 },
 "nbformat": 4,
 "nbformat_minor": 5
}
