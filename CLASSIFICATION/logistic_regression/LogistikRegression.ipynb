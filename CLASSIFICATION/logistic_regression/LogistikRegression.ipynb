{
 "cells": [
  {
   "cell_type": "code",
   "execution_count": null,
   "id": "0f546c02-7b33-4a28-8269-ebf443a1c308",
   "metadata": {},
   "outputs": [],
   "source": [
    "import numpy as np\n",
    "import pandas as pd\n",
    "import matplotlib.pyplot as plt\n",
    "from sklearn.linear_model import LogisticRegression\n",
    "from sklearn.model_selection import train_test_split\n",
    "from sklearn.metrics import accuracy_score, confusion_matrix, classification_report\n",
    "\n",
    "# Ma'lumotlar\n",
    "\n",
    "\n",
    "# Oylikni klassifikatsiya qilish uchun, threshold belgilaymiz\n",
    "  # 1 - yuqori, 0 - past\n",
    "\n",
    "# X va y ajratish\n",
    "X = df[['yosh', 'ish_staji']]\n",
    "y = df['oylik_class']\n",
    "\n",
    "# Train-test split\n",
    "X_train, X_test, y_train, y_test = train_test_split(X, y, test_size=0.3, random_state=42)\n",
    "\n",
    "# Logistic Regression modelini yaratish va o'qitish\n",
    "model = LogisticRegression(random_state=42)\n",
    "model.fit(X_train, y_train)\n",
    "\n",
    "# Bashorat va baholash\n",
    "y_pred = model.predict(X_test)\n",
    "accuracy = accuracy_score(y_test, y_pred)\n",
    "c_matrix = confusion_matrix(y_test, y_pred)\n",
    "report = classification_report(y_test, y_pred)\n",
    "\n",
    "# Natijalarni chiqarish\n",
    "print(report)\n",
    "print(f\"(Accuracy): {accuracy}\")\n",
    "print(c_matrix)"
   ]
  },
  {
   "cell_type": "code",
   "execution_count": null,
   "id": "3b31caf8-04ef-4a0f-9a3a-56574d092077",
   "metadata": {},
   "outputs": [],
   "source": [
    "data = {\n",
    "    'yosh': [25, 22, 27, 30, 22, 27, 20, 35, 32, 23],\n",
    "    'ish_staji': [2, 1, 3, 5, 1, 2, 0, 10, 7, 1],\n",
    "    'oylik': [5000, 4500, 6000, 7000, 2000, 3500, 1200, 9000, 8000, 4000]\n",
    "}\n",
    "df = pd.DataFrame(data)"
   ]
  },
  {
   "cell_type": "code",
   "execution_count": null,
   "id": "32570e35-4899-4e47-8ae6-1ee4e5ab3451",
   "metadata": {},
   "outputs": [],
   "source": []
  },
  {
   "cell_type": "code",
   "execution_count": null,
   "id": "d2d06862-1627-4944-86b8-797ddcbd96db",
   "metadata": {},
   "outputs": [],
   "source": []
  },
  {
   "cell_type": "code",
   "execution_count": null,
   "id": "5c1dc106-7911-4f3f-81cf-44a1f9d89529",
   "metadata": {},
   "outputs": [],
   "source": []
  },
  {
   "cell_type": "code",
   "execution_count": null,
   "id": "7e3fe4a4-5557-434b-914c-8c3f0be90985",
   "metadata": {},
   "outputs": [],
   "source": []
  },
  {
   "cell_type": "code",
   "execution_count": null,
   "id": "8fb73e6f-9979-4592-8761-e4232832f66c",
   "metadata": {},
   "outputs": [],
   "source": []
  },
  {
   "cell_type": "code",
   "execution_count": null,
   "id": "1a360c17-61c0-401c-886d-c0e9315109c1",
   "metadata": {},
   "outputs": [],
   "source": []
  },
  {
   "cell_type": "code",
   "execution_count": null,
   "id": "ef82c215-c11a-439f-8e38-bb6e02b5a487",
   "metadata": {},
   "outputs": [],
   "source": []
  }
 ],
 "metadata": {
  "kernelspec": {
   "display_name": "Python 3 (ipykernel)",
   "language": "python",
   "name": "python3"
  },
  "language_info": {
   "codemirror_mode": {
    "name": "ipython",
    "version": 3
   },
   "file_extension": ".py",
   "mimetype": "text/x-python",
   "name": "python",
   "nbconvert_exporter": "python",
   "pygments_lexer": "ipython3",
   "version": "3.12.0"
  }
 },
 "nbformat": 4,
 "nbformat_minor": 5
}
