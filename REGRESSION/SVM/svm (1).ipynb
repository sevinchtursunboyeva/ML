{
 "cells": [
  {
   "cell_type": "code",
   "execution_count": 1,
   "id": "5ffed32d-4fcd-4180-bb1d-b629d65db836",
   "metadata": {},
   "outputs": [
    {
     "name": "stdout",
     "output_type": "stream",
     "text": [
      "Mean Absolute Error (MAE): 1515.2130958581415\n",
      "Mean Squared Error (MSE): 2489177.4427160765\n",
      "R^2 Score: -38.82683908345722\n",
      "Yangi ishchi uchun oylik maosh: 3969.5210229400877\n"
     ]
    }
   ],
   "source": [
    "import numpy as np\n",
    "import pandas as pd\n",
    "from sklearn.model_selection import train_test_split\n",
    "from sklearn.svm import SVR\n",
    "from sklearn.metrics import mean_absolute_error, mean_squared_error, r2_score\n",
    "from sklearn.preprocessing import StandardScaler\n",
    "\n",
    "# Ma'lumotlar\n",
    "data = {\n",
    "    'yosh': [22, 25, 30, 35, 40, 45, 50],\n",
    "    'talim_darajasi': [1, 2, 3, 2, 1, 3, 2], \n",
    "    'oylik_maosh_$': [2500, 3000, 3500, 4000, 4500, 5000, 5500] \n",
    "}\n",
    "df = pd.DataFrame(data)\n",
    "\n",
    "# X va y ni ajratamiz\n",
    "X = df[['yosh', 'talim_darajasi']]\n",
    "y = df['oylik_maosh_$']\n",
    "\n",
    "# Ma'lumotlarni standartlashtiramiz (SVR bunga sezgir)\n",
    "scaler_X = StandardScaler()\n",
    "scaler_y = StandardScaler()\n",
    "\n",
    "X_scaled = scaler_X.fit_transform(X)\n",
    "y_scaled = scaler_y.fit_transform(y.values.reshape(-1, 1)).ravel()\n",
    "\n",
    "# Train va test bo‘lish\n",
    "X_train, X_test, y_train, y_test = train_test_split(X_scaled, y_scaled, test_size=0.2, random_state=42)\n",
    "\n",
    "# SVR modelini yaratamiz\n",
    "svr = SVR(kernel='rbf')  # 'linear' yoki 'poly' kernel ham sinab ko‘rish mumkin\n",
    "svr.fit(X_train, y_train)\n",
    "\n",
    "# Bashorat\n",
    "y_pred_scaled = svr.predict(X_test)\n",
    "y_pred = scaler_y.inverse_transform(y_pred_scaled.reshape(-1, 1)).ravel()\n",
    "y_test_original = scaler_y.inverse_transform(y_test.reshape(-1, 1)).ravel()\n",
    "\n",
    "# Baholash\n",
    "mae = mean_absolute_error(y_test_original, y_pred)\n",
    "mse = mean_squared_error(y_test_original, y_pred)\n",
    "r2 = r2_score(y_test_original, y_pred)\n",
    "\n",
    "print(f\"Mean Absolute Error (MAE): {mae}\")\n",
    "print(f\"Mean Squared Error (MSE): {mse}\")\n",
    "print(f\"R^2 Score: {r2}\")\n",
    "\n",
    "# Yangi ishchi uchun bashorat\n",
    "yangi_ishchi = pd.DataFrame({'yosh': [32], 'talim_darajasi': [2]})\n",
    "yangi_ishchi_scaled = scaler_X.transform(yangi_ishchi)\n",
    "predicted_salary_scaled = svr.predict(yangi_ishchi_scaled)\n",
    "predicted_salary = scaler_y.inverse_transform(predicted_salary_scaled.reshape(-1, 1)).ravel()\n",
    "\n",
    "print(f\"Yangi ishchi uchun oylik maosh: {predicted_salary[0]}\")"
   ]
  },
  {
   "cell_type": "code",
   "execution_count": null,
   "id": "0497cc67-0646-4f75-baf9-ad903961e99c",
   "metadata": {},
   "outputs": [],
   "source": []
  }
 ],
 "metadata": {
  "kernelspec": {
   "display_name": "Python 3 (ipykernel)",
   "language": "python",
   "name": "python3"
  },
  "language_info": {
   "codemirror_mode": {
    "name": "ipython",
    "version": 3
   },
   "file_extension": ".py",
   "mimetype": "text/x-python",
   "name": "python",
   "nbconvert_exporter": "python",
   "pygments_lexer": "ipython3",
   "version": "3.12.0"
  }
 },
 "nbformat": 4,
 "nbformat_minor": 5
}
