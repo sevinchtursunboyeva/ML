{
 "cells": [
  {
   "cell_type": "code",
   "execution_count": 2,
   "id": "5c7bbd7f-0850-49ca-a906-7cfbb76f223b",
   "metadata": {},
   "outputs": [
    {
     "name": "stdout",
     "output_type": "stream",
     "text": [
      "Mean Absolute Error (MAE): 1117.5\n",
      "Mean Squared Error (MSE): 1325812.5\n",
      "R^2 Score: -20.213\n",
      "Yangi ishchi uchun oylik maosh: 3840.0\n"
     ]
    }
   ],
   "source": [
    "import numpy as np\n",
    "import pandas as pd\n",
    "from sklearn.model_selection import train_test_split\n",
    "from sklearn.ensemble import RandomForestRegressor\n",
    "from sklearn.metrics import mean_absolute_error, mean_squared_error, r2_score\n",
    "import matplotlib.pyplot as plt\n",
    "\n",
    "# Ma'lumotlar\n",
    "data = {\n",
    "    'yosh': [22, 25, 30, 35, 40, 45, 50],\n",
    "    'talim_darajasi': [1, 2, 3, 2, 1, 3, 2], \n",
    "    'oylik_maosh_$': [2500, 3000, 3500, 4000, 4500, 5000, 5500] \n",
    "}\n",
    "df = pd.DataFrame(data)\n",
    "\n",
    "# X va y ni ajratamiz\n",
    "X = df[['yosh', 'talim_darajasi']]\n",
    "y = df['oylik_maosh_$']\n",
    "\n",
    "# Train va test bo‘lish\n",
    "X_train, X_test, y_train, y_test = train_test_split(X, y, test_size=0.2, random_state=42)\n",
    "\n",
    "# Random Forest modelini yaratamiz\n",
    "forest = RandomForestRegressor(n_estimators=100, max_depth=3, random_state=42)\n",
    "forest.fit(X_train, y_train)\n",
    "\n",
    "# Bashorat\n",
    "y_pred = forest.predict(X_test)\n",
    "\n",
    "# Baholash\n",
    "mae = mean_absolute_error(y_test, y_pred)\n",
    "mse = mean_squared_error(y_test, y_pred)\n",
    "r2 = r2_score(y_test, y_pred)\n",
    "\n",
    "print(f\"Mean Absolute Error (MAE): {mae}\")\n",
    "print(f\"Mean Squared Error (MSE): {mse}\")\n",
    "print(f\"R^2 Score: {r2}\")\n",
    "\n",
    "# Yangi ishchi uchun bashorat\n",
    "yangi_ishchi = pd.DataFrame({'yosh': [32], 'talim_darajasi': [2]})\n",
    "predicted_salary = forest.predict(yangi_ishchi)\n",
    "print(f\"Yangi ishchi uchun oylik maosh: {predicted_salary[0]}\")"
   ]
  },
  {
   "cell_type": "code",
   "execution_count": null,
   "id": "62424c5b-80d0-4e93-8e3b-aa6f52c9dbfd",
   "metadata": {},
   "outputs": [],
   "source": []
  }
 ],
 "metadata": {
  "kernelspec": {
   "display_name": "Python 3 (ipykernel)",
   "language": "python",
   "name": "python3"
  },
  "language_info": {
   "codemirror_mode": {
    "name": "ipython",
    "version": 3
   },
   "file_extension": ".py",
   "mimetype": "text/x-python",
   "name": "python",
   "nbconvert_exporter": "python",
   "pygments_lexer": "ipython3",
   "version": "3.12.0"
  }
 },
 "nbformat": 4,
 "nbformat_minor": 5
}
